{
 "cells": [
  {
   "cell_type": "code",
   "execution_count": 1,
   "metadata": {},
   "outputs": [],
   "source": [
    "import sympy as sp\n",
    "from sympy.interactive.printing import init_printing\n",
    "init_printing(use_unicode=False, wrap_line=False)\n",
    "import numpy as np\n",
    "import math\n",
    "from run import NCV"
   ]
  },
  {
   "cell_type": "code",
   "execution_count": 11,
   "metadata": {},
   "outputs": [
    {
     "data": {
      "text/latex": [
       "$\\displaystyle \\left[\\begin{matrix}1 & T\\\\0 & 1\\end{matrix}\\right]$"
      ],
      "text/plain": [
       "[1  T]\n",
       "[    ]\n",
       "[0  1]"
      ]
     },
     "execution_count": 11,
     "metadata": {},
     "output_type": "execute_result"
    }
   ],
   "source": [
    "T = sp.symbols('T')\n",
    "F = sp.Matrix([[0, 1],[0, 0]])\n",
    "Fi = sp.exp(F*T)\n",
    "Fi"
   ]
  },
  {
   "cell_type": "code",
   "execution_count": 33,
   "metadata": {},
   "outputs": [
    {
     "data": {
      "text/latex": [
       "$\\displaystyle \\left[\\begin{matrix}\\frac{T^{3} q}{3} & \\frac{T^{2} q}{2}\\\\\\frac{T^{2} q}{2} & T q\\end{matrix}\\right]$"
      ],
      "text/plain": [
       "[ 3     2  ]\n",
       "[T *q  T *q]\n",
       "[----  ----]\n",
       "[ 3     2  ]\n",
       "[          ]\n",
       "[ 2        ]\n",
       "[T *q      ]\n",
       "[----  T*q ]\n",
       "[ 2        ]"
      ]
     },
     "execution_count": 33,
     "metadata": {},
     "output_type": "execute_result"
    }
   ],
   "source": [
    "q = 1\n",
    "T = 1\n",
    "T, q = sp.symbols('T q')\n",
    "F = sp.Matrix([[0, 1],[0, 0]])\n",
    "Fi = sp.exp(F*T)\n",
    "L = sp.Matrix([[0], [1]])\n",
    "Q = sp.integrate( (Fi*L)*q*(Fi*L).T, (T, 0, T) )\n",
    "Q"
   ]
  },
  {
   "cell_type": "code",
   "execution_count": 34,
   "metadata": {},
   "outputs": [
    {
     "data": {
      "text/plain": [
       "array([[T**3*q/3, T**2*q/2],\n",
       "       [T**2*q/2, T*q]], dtype=object)"
      ]
     },
     "execution_count": 34,
     "metadata": {},
     "output_type": "execute_result"
    }
   ],
   "source": [
    "np.array(Q)"
   ]
  },
  {
   "cell_type": "code",
   "execution_count": 29,
   "metadata": {},
   "outputs": [
    {
     "name": "stderr",
     "output_type": "stream",
     "text": [
      "D:\\anaconda3\\envs\\ids\\lib\\site-packages\\IPython\\lib\\latextools.py:126: MatplotlibDeprecationWarning: \n",
      "The to_png function was deprecated in Matplotlib 3.4 and will be removed two minor releases later. Use mathtext.math_to_image instead.\n",
      "  mt.to_png(f, s, fontsize=12, dpi=dpi, color=color)\n",
      "D:\\anaconda3\\envs\\ids\\lib\\site-packages\\IPython\\lib\\latextools.py:126: MatplotlibDeprecationWarning: \n",
      "The to_rgba function was deprecated in Matplotlib 3.4 and will be removed two minor releases later. Use mathtext.math_to_image instead.\n",
      "  mt.to_png(f, s, fontsize=12, dpi=dpi, color=color)\n",
      "D:\\anaconda3\\envs\\ids\\lib\\site-packages\\IPython\\lib\\latextools.py:126: MatplotlibDeprecationWarning: \n",
      "The to_mask function was deprecated in Matplotlib 3.4 and will be removed two minor releases later. Use mathtext.math_to_image instead.\n",
      "  mt.to_png(f, s, fontsize=12, dpi=dpi, color=color)\n",
      "D:\\anaconda3\\envs\\ids\\lib\\site-packages\\IPython\\lib\\latextools.py:126: MatplotlibDeprecationWarning: \n",
      "The MathtextBackendBitmap class was deprecated in Matplotlib 3.4 and will be removed two minor releases later. Use mathtext.math_to_image instead.\n",
      "  mt.to_png(f, s, fontsize=12, dpi=dpi, color=color)\n"
     ]
    },
    {
     "data": {
      "text/latex": [
       "$\\displaystyle \\left[\\begin{matrix}q & 0\\\\0 & q\\end{matrix}\\right]$"
      ],
      "text/plain": [
       "[q  0]\n",
       "[    ]\n",
       "[0  q]"
      ]
     },
     "execution_count": 29,
     "metadata": {},
     "output_type": "execute_result"
    }
   ],
   "source": [
    "T,q = sp.symbols('T q')\n",
    "F = sp.Matrix(np.zeros((2,2)))\n",
    "L = sp.Matrix([[1,0], [0,1]])\n",
    "Fi = sp.exp(F*T)\n",
    "Q = sp.integrate( (Fi*L)*q*(Fi*L).T, (T, 0, 1) )\n",
    "Q"
   ]
  },
  {
   "cell_type": "code",
   "execution_count": 17,
   "metadata": {},
   "outputs": [
    {
     "data": {
      "text/plain": [
       "array([[0., 0.],\n",
       "       [0., 0.]])"
      ]
     },
     "execution_count": 17,
     "metadata": {},
     "output_type": "execute_result"
    }
   ],
   "source": [
    "np.zeros((2,2))"
   ]
  },
  {
   "cell_type": "code",
   "execution_count": 18,
   "metadata": {},
   "outputs": [
    {
     "name": "stderr",
     "output_type": "stream",
     "text": [
      "D:\\anaconda3\\envs\\ids\\lib\\site-packages\\IPython\\lib\\latextools.py:126: MatplotlibDeprecationWarning: \n",
      "The to_png function was deprecated in Matplotlib 3.4 and will be removed two minor releases later. Use mathtext.math_to_image instead.\n",
      "  mt.to_png(f, s, fontsize=12, dpi=dpi, color=color)\n",
      "D:\\anaconda3\\envs\\ids\\lib\\site-packages\\IPython\\lib\\latextools.py:126: MatplotlibDeprecationWarning: \n",
      "The to_rgba function was deprecated in Matplotlib 3.4 and will be removed two minor releases later. Use mathtext.math_to_image instead.\n",
      "  mt.to_png(f, s, fontsize=12, dpi=dpi, color=color)\n",
      "D:\\anaconda3\\envs\\ids\\lib\\site-packages\\IPython\\lib\\latextools.py:126: MatplotlibDeprecationWarning: \n",
      "The to_mask function was deprecated in Matplotlib 3.4 and will be removed two minor releases later. Use mathtext.math_to_image instead.\n",
      "  mt.to_png(f, s, fontsize=12, dpi=dpi, color=color)\n",
      "D:\\anaconda3\\envs\\ids\\lib\\site-packages\\IPython\\lib\\latextools.py:126: MatplotlibDeprecationWarning: \n",
      "The MathtextBackendBitmap class was deprecated in Matplotlib 3.4 and will be removed two minor releases later. Use mathtext.math_to_image instead.\n",
      "  mt.to_png(f, s, fontsize=12, dpi=dpi, color=color)\n"
     ]
    },
    {
     "data": {
      "text/latex": [
       "$\\displaystyle \\left[\\begin{matrix}0 & 0\\\\0 & 0\\end{matrix}\\right]$"
      ],
      "text/plain": [
       "[0  0]\n",
       "[    ]\n",
       "[0  0]"
      ]
     },
     "execution_count": 18,
     "metadata": {},
     "output_type": "execute_result"
    }
   ],
   "source": [
    "sp.Matrix(np.zeros((2,2)))"
   ]
  },
  {
   "cell_type": "code",
   "execution_count": 38,
   "metadata": {},
   "outputs": [
    {
     "data": {
      "text/latex": [
       "$\\displaystyle \\left[\\begin{matrix}0 & 0 & 1.0 & 0\\\\0 & 0 & 0 & 1.0\\\\0 & 0 & 0 & 0\\\\0 & 0 & 0 & 0\\end{matrix}\\right]$"
      ],
      "text/plain": [
       "[0  0  1.0   0 ]\n",
       "[              ]\n",
       "[0  0   0   1.0]\n",
       "[              ]\n",
       "[0  0   0    0 ]\n",
       "[              ]\n",
       "[0  0   0    0 ]"
      ]
     },
     "execution_count": 38,
     "metadata": {},
     "output_type": "execute_result"
    }
   ],
   "source": [
    "F = sp.Matrix(np.vstack((np.array([[0,0,1,0],[0,0,0,1]]), np.zeros((2,4)))))\n",
    "F"
   ]
  },
  {
   "cell_type": "code",
   "execution_count": 39,
   "metadata": {},
   "outputs": [
    {
     "name": "stderr",
     "output_type": "stream",
     "text": [
      "D:\\anaconda3\\envs\\ids\\lib\\site-packages\\IPython\\lib\\latextools.py:126: MatplotlibDeprecationWarning: \n",
      "The to_png function was deprecated in Matplotlib 3.4 and will be removed two minor releases later. Use mathtext.math_to_image instead.\n",
      "  mt.to_png(f, s, fontsize=12, dpi=dpi, color=color)\n",
      "D:\\anaconda3\\envs\\ids\\lib\\site-packages\\IPython\\lib\\latextools.py:126: MatplotlibDeprecationWarning: \n",
      "The to_rgba function was deprecated in Matplotlib 3.4 and will be removed two minor releases later. Use mathtext.math_to_image instead.\n",
      "  mt.to_png(f, s, fontsize=12, dpi=dpi, color=color)\n",
      "D:\\anaconda3\\envs\\ids\\lib\\site-packages\\IPython\\lib\\latextools.py:126: MatplotlibDeprecationWarning: \n",
      "The to_mask function was deprecated in Matplotlib 3.4 and will be removed two minor releases later. Use mathtext.math_to_image instead.\n",
      "  mt.to_png(f, s, fontsize=12, dpi=dpi, color=color)\n",
      "D:\\anaconda3\\envs\\ids\\lib\\site-packages\\IPython\\lib\\latextools.py:126: MatplotlibDeprecationWarning: \n",
      "The MathtextBackendBitmap class was deprecated in Matplotlib 3.4 and will be removed two minor releases later. Use mathtext.math_to_image instead.\n",
      "  mt.to_png(f, s, fontsize=12, dpi=dpi, color=color)\n"
     ]
    },
    {
     "data": {
      "text/latex": [
       "$\\displaystyle \\left[\\begin{matrix}0 & 0\\\\0 & 0\\\\1.0 & 0\\\\0 & 1.0\\end{matrix}\\right]$"
      ],
      "text/plain": [
       "[ 0    0 ]\n",
       "[        ]\n",
       "[ 0    0 ]\n",
       "[        ]\n",
       "[1.0   0 ]\n",
       "[        ]\n",
       "[ 0   1.0]"
      ]
     },
     "execution_count": 39,
     "metadata": {},
     "output_type": "execute_result"
    }
   ],
   "source": [
    "L = sp.Matrix(np.vstack((np.zeros((2,2)), np.eye(2))))\n",
    "L"
   ]
  },
  {
   "cell_type": "code",
   "execution_count": 42,
   "metadata": {},
   "outputs": [
    {
     "name": "stderr",
     "output_type": "stream",
     "text": [
      "D:\\anaconda3\\envs\\ids\\lib\\site-packages\\IPython\\lib\\latextools.py:126: MatplotlibDeprecationWarning: \n",
      "The to_png function was deprecated in Matplotlib 3.4 and will be removed two minor releases later. Use mathtext.math_to_image instead.\n",
      "  mt.to_png(f, s, fontsize=12, dpi=dpi, color=color)\n",
      "D:\\anaconda3\\envs\\ids\\lib\\site-packages\\IPython\\lib\\latextools.py:126: MatplotlibDeprecationWarning: \n",
      "The to_rgba function was deprecated in Matplotlib 3.4 and will be removed two minor releases later. Use mathtext.math_to_image instead.\n",
      "  mt.to_png(f, s, fontsize=12, dpi=dpi, color=color)\n",
      "D:\\anaconda3\\envs\\ids\\lib\\site-packages\\IPython\\lib\\latextools.py:126: MatplotlibDeprecationWarning: \n",
      "The to_mask function was deprecated in Matplotlib 3.4 and will be removed two minor releases later. Use mathtext.math_to_image instead.\n",
      "  mt.to_png(f, s, fontsize=12, dpi=dpi, color=color)\n",
      "D:\\anaconda3\\envs\\ids\\lib\\site-packages\\IPython\\lib\\latextools.py:126: MatplotlibDeprecationWarning: \n",
      "The MathtextBackendBitmap class was deprecated in Matplotlib 3.4 and will be removed two minor releases later. Use mathtext.math_to_image instead.\n",
      "  mt.to_png(f, s, fontsize=12, dpi=dpi, color=color)\n"
     ]
    },
    {
     "data": {
      "text/latex": [
       "$\\displaystyle \\left[\\begin{matrix}0 & 0\\\\0 & 0\\\\0 & 0\\\\0 & 0\\\\1.0 & 0\\\\0 & 1.0\\end{matrix}\\right]$"
      ],
      "text/plain": [
       "[ 0    0 ]\n",
       "[        ]\n",
       "[ 0    0 ]\n",
       "[        ]\n",
       "[ 0    0 ]\n",
       "[        ]\n",
       "[ 0    0 ]\n",
       "[        ]\n",
       "[1.0   0 ]\n",
       "[        ]\n",
       "[ 0   1.0]"
      ]
     },
     "execution_count": 42,
     "metadata": {},
     "output_type": "execute_result"
    }
   ],
   "source": [
    "sp.Matrix(np.vstack((np.zeros((4,2)), np.eye(2))))"
   ]
  },
  {
   "cell_type": "code",
   "execution_count": 47,
   "metadata": {},
   "outputs": [
    {
     "name": "stdout",
     "output_type": "stream",
     "text": [
      "[ 1.62749851e+00  3.75719087e+00  5.18162417e+00  5.70927426e+00\n",
      "  5.30294363e+00  4.07815282e+00  2.27657181e+00  2.20036509e-01\n",
      " -1.74632105e+00 -3.31186894e+00 -4.24953850e+00 -4.44840633e+00\n",
      " -3.92518224e+00 -2.81376709e+00 -1.33579494e+00  2.41841243e-01\n",
      "  1.65456172e+00  2.68437903e+00  3.19348766e+00  3.14199625e+00\n",
      "  2.58765627e+00  1.66869561e+00  5.73772728e-01 -4.94872109e-01\n",
      " -1.35810590e+00 -1.88986884e+00 -2.03541365e+00 -1.81520912e+00\n",
      " -1.31466053e+00 -6.62413058e-01 -1.99540843e-03  5.37415086e-01\n",
      "  8.65424438e-01  9.45539513e-01  7.98447472e-01  4.93342186e-01\n",
      "  1.29543994e-01 -1.87476259e-01 -3.70538546e-01]\n"
     ]
    },
    {
     "data": {
      "text/plain": [
       "array([ 0.00000000e+00,  1.62749851e+00,  3.75719087e+00,  5.18162417e+00,\n",
       "        5.70927426e+00,  5.30294363e+00,  4.07815282e+00,  2.27657181e+00,\n",
       "        2.20036509e-01, -1.74632105e+00, -3.31186894e+00, -4.24953850e+00,\n",
       "       -4.44840633e+00, -3.92518224e+00, -2.81376709e+00, -1.33579494e+00,\n",
       "        2.41841243e-01,  1.65456172e+00,  2.68437903e+00,  3.19348766e+00,\n",
       "        3.14199625e+00,  2.58765627e+00,  1.66869561e+00,  5.73772728e-01,\n",
       "       -4.94872109e-01, -1.35810590e+00, -1.88986884e+00, -2.03541365e+00,\n",
       "       -1.81520912e+00, -1.31466053e+00, -6.62413058e-01, -1.99540843e-03,\n",
       "        5.37415086e-01,  8.65424438e-01,  9.45539513e-01,  7.98447472e-01,\n",
       "        4.93342186e-01,  1.29543994e-01, -1.87476259e-01, -3.70538546e-01])"
      ]
     },
     "execution_count": 47,
     "metadata": {},
     "output_type": "execute_result"
    }
   ],
   "source": [
    "N = 40\n",
    "v = np.linspace(5 * math.pi, 0, N)\n",
    "x = np.cos(v) * v\n",
    "y = np.sin(v) * v\n",
    "vx = np.diff(x)\n",
    "vx = np.insert(vx, 0, 0)\n",
    "vy = np.diff(y)\n",
    "vy = np.insert(vy, 0, 0)\n",
    "\n",
    "vx"
   ]
  },
  {
   "cell_type": "code",
   "execution_count": 6,
   "metadata": {},
   "outputs": [],
   "source": [
    "T = sp.symbols('T')\n",
    "q = 1\n",
    "F = sp.Matrix(np.vstack((np.array([[0,0,1,0],[0,0,0,1]]), np.zeros((2,4)))))\n",
    "L = sp.Matrix(np.vstack((np.zeros((2,2)), np.eye(2))))\n",
    "Fi = sp.exp(F*T)\n",
    "Q = sp.integrate( (Fi*L)*q*(Fi*L).T, (T, 0, 1) )"
   ]
  },
  {
   "cell_type": "code",
   "execution_count": 9,
   "metadata": {},
   "outputs": [
    {
     "name": "stderr",
     "output_type": "stream",
     "text": [
      "D:\\anaconda3\\envs\\ids\\lib\\site-packages\\IPython\\lib\\latextools.py:126: MatplotlibDeprecationWarning: \n",
      "The to_png function was deprecated in Matplotlib 3.4 and will be removed two minor releases later. Use mathtext.math_to_image instead.\n",
      "  mt.to_png(f, s, fontsize=12, dpi=dpi, color=color)\n",
      "D:\\anaconda3\\envs\\ids\\lib\\site-packages\\IPython\\lib\\latextools.py:126: MatplotlibDeprecationWarning: \n",
      "The to_rgba function was deprecated in Matplotlib 3.4 and will be removed two minor releases later. Use mathtext.math_to_image instead.\n",
      "  mt.to_png(f, s, fontsize=12, dpi=dpi, color=color)\n",
      "D:\\anaconda3\\envs\\ids\\lib\\site-packages\\IPython\\lib\\latextools.py:126: MatplotlibDeprecationWarning: \n",
      "The to_mask function was deprecated in Matplotlib 3.4 and will be removed two minor releases later. Use mathtext.math_to_image instead.\n",
      "  mt.to_png(f, s, fontsize=12, dpi=dpi, color=color)\n",
      "D:\\anaconda3\\envs\\ids\\lib\\site-packages\\IPython\\lib\\latextools.py:126: MatplotlibDeprecationWarning: \n",
      "The MathtextBackendBitmap class was deprecated in Matplotlib 3.4 and will be removed two minor releases later. Use mathtext.math_to_image instead.\n",
      "  mt.to_png(f, s, fontsize=12, dpi=dpi, color=color)\n"
     ]
    },
    {
     "data": {
      "text/latex": [
       "$\\displaystyle \\left[\\begin{matrix}0 & 0 & 1.0 & 0\\\\0 & 0 & 0 & 1.0\\\\0 & 0 & 0 & 0\\\\0 & 0 & 0 & 0\\end{matrix}\\right]$"
      ],
      "text/plain": [
       "[0  0  1.0   0 ]\n",
       "[              ]\n",
       "[0  0   0   1.0]\n",
       "[              ]\n",
       "[0  0   0    0 ]\n",
       "[              ]\n",
       "[0  0   0    0 ]"
      ]
     },
     "execution_count": 9,
     "metadata": {},
     "output_type": "execute_result"
    }
   ],
   "source": [
    "F"
   ]
  },
  {
   "cell_type": "code",
   "execution_count": 16,
   "metadata": {},
   "outputs": [
    {
     "data": {
      "text/plain": [
       "array([[1., 1.],\n",
       "       [1., 1.],\n",
       "       [1., 1.],\n",
       "       [1., 1.]])"
      ]
     },
     "execution_count": 16,
     "metadata": {},
     "output_type": "execute_result"
    }
   ],
   "source": [
    "o = np.ones((4,4))\n",
    "o[:,:2]"
   ]
  },
  {
   "cell_type": "code",
   "execution_count": 41,
   "metadata": {},
   "outputs": [
    {
     "data": {
      "text/plain": [
       "array([[68.20310567, 67.12169276, 59.76637965, 63.13940873, 66.68448869],\n",
       "       [60.06372657, 71.15069503, 71.72289614, 62.38508603, 64.41524934],\n",
       "       [50.17370897, 46.17567018, 45.49202111, 42.75499849, 42.98654273]])"
      ]
     },
     "execution_count": 41,
     "metadata": {},
     "output_type": "execute_result"
    }
   ],
   "source": [
    "fails = np.load(\"q/fails.npy\")\n",
    "np.min(fails)\n",
    "ov = np.load(\"q/ovrlaps.npy\")\n",
    "sp = np.load(\"q/speed.npy\")\n",
    "np.argmax(ov)\n",
    "sp"
   ]
  },
  {
   "cell_type": "code",
   "execution_count": 40,
   "metadata": {},
   "outputs": [
    {
     "data": {
      "text/plain": [
       "array([[65.60810553, 68.60967762, 69.89136685, 68.5587314 , 66.01784767],\n",
       "       [64.50789726, 66.94024203, 67.04795188, 70.39921802, 60.82479792],\n",
       "       [44.88760991, 46.91282528, 45.23028837, 43.87516738, 45.48262057]])"
      ]
     },
     "execution_count": 40,
     "metadata": {},
     "output_type": "execute_result"
    }
   ],
   "source": [
    "fails = np.load(\"Alpha/fails.npy\")\n",
    "np.min(fails)\n",
    "ov = np.load(\"Alpha/ovrlaps.npy\")\n",
    "sp = np.load(\"Alpha/speed.npy\")\n",
    "np.argmax(ov)\n",
    "sp"
   ]
  },
  {
   "cell_type": "code",
   "execution_count": 42,
   "metadata": {},
   "outputs": [
    {
     "data": {
      "text/plain": [
       "array([[266.80641654, 155.12929962, 110.64119248,  88.94814761,\n",
       "         70.37190028,  61.90575073,  59.86882645,  59.01564856,\n",
       "         62.26989807,  54.07370301],\n",
       "       [263.9672605 , 178.43512086, 138.09333686, 107.18517624,\n",
       "         89.85133312,  76.67516114,  69.75794572,  62.70033876,\n",
       "         56.95436133,  52.6996716 ],\n",
       "       [ 56.43173956,  58.51463446,  55.39495573,  50.26957558,\n",
       "         47.25293764,  43.82160231,  42.40010329,  40.42103529,\n",
       "         37.54221839,  35.30827579]])"
      ]
     },
     "execution_count": 42,
     "metadata": {},
     "output_type": "execute_result"
    }
   ],
   "source": [
    "fails = np.load(\"Number_of_particles/fails.npy\")\n",
    "np.min(fails)\n",
    "ov = np.load(\"Number_of_particles/ovrlaps.npy\")\n",
    "sp = np.load(\"Number_of_particles/speed.npy\")\n",
    "np.argmax(ov)\n",
    "sp"
   ]
  },
  {
   "cell_type": "code",
   "execution_count": 99,
   "metadata": {},
   "outputs": [
    {
     "name": "stdout",
     "output_type": "stream",
     "text": [
      "[0.41821665 0.4219914  0.4224757  0.42859827 0.42992535 0.43089338\n",
      " 0.43191611 0.42761395 0.44244242 0.43392775]\n"
     ]
    },
    {
     "data": {
      "text/plain": [
       "Text(0, 0.5, 'Average overlap')"
      ]
     },
     "execution_count": 99,
     "metadata": {},
     "output_type": "execute_result"
    },
    {
     "data": {
      "image/png": "[encoded data removed]",
      "text/plain": [
       "<Figure size 432x288 with 1 Axes>"
      ]
     },
     "metadata": {},
     "output_type": "display_data"
    }
   ],
   "source": [
    "import matplotlib.pyplot as plt\n",
    "plt.style.use('seaborn-whitegrid')\n",
    "\n",
    "fails = np.load(\"Number_of_particles/fails.npy\")\n",
    "np.min(fails)\n",
    "ov = np.load(\"Number_of_particles/ovrlaps.npy\")\n",
    "sp = np.load(\"Number_of_particles/speed.npy\")\n",
    "\n",
    "r, v ,a = ov\n",
    "print(r)\n",
    "\n",
    "plt.plot(r, label=\"RW\")\n",
    "plt.plot(v, label=\"NCV\")\n",
    "plt.plot(a, label=\"NCA\")\n",
    "# plt.xticks.l\n",
    "plt.xticks(range(10), [10 * (i+1) for i in range(10)])\n",
    "# plt.yscale(\"log\")\n",
    "plt.legend()\n",
    "plt.xlabel(\"Number of particles\")\n",
    "plt.ylabel(\"Average FPS\")\n"
   ]
  }
 ],
 "metadata": {
  "interpreter": {
   "hash": "50fff74db5efa089f0cf074252ae1d0598cf466eb2ddcbc87b731bd367568352"
  },
  "kernelspec": {
   "display_name": "Python 3.8.12 ('ids')",
   "language": "python",
   "name": "python3"
  },
  "language_info": {
   "codemirror_mode": {
    "name": "ipython",
    "version": 3
   },
   "file_extension": ".py",
   "mimetype": "text/x-python",
   "name": "python",
   "nbconvert_exporter": "python",
   "pygments_lexer": "ipython3",
   "version": "3.8.12"
  },
  "orig_nbformat": 4
 },
 "nbformat": 4,
 "nbformat_minor": 2
}
