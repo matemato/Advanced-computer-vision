 1. Take derivative of the following function:\
        f(x) = (x + x<sup>3</sup>)<sup>4</sup> - x \
        \
        SOLUTION:    f(x)' = 4(x + x<sup>3</sup>)<sup>3</sup> * (1 + 3x<sup>2</sup>) - 1