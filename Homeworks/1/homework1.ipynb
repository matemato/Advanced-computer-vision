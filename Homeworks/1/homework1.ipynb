{
 "cells": [
  {
   "cell_type": "markdown",
   "metadata": {},
   "source": [
    " $1.$ Take derivative of the following function:  \n",
    "        $f(x) = (x + x^3)^4 - x$   \n",
    "        SOLUTION:  \n",
    "        $f(x)' = 4(x + x^3)^3 * (1 + 3x^2) - 1\n",
    "        $"
   ]
  },
  {
   "cell_type": "markdown",
   "metadata": {},
   "source": [
    "$2.$ Linearize the following function at $x_0: f(x) = x + 2x^2$  \n",
    " Write the equation of a line tangent at $𝑥_0 = 3$:  \n",
    "  a) First derive the form: $𝑓(𝑥_0 + \\delta) =?$  \n",
    "  b) Then write the linear approximation of $𝑓(𝑥)$ at $𝑥_0, i.e., 𝑓(𝑥) |𝑥_0 ≈?$  \n",
    "  SOLUTION:  \n",
    "      a)  \n",
    "      $f(𝑥_0 + \\delta) ≈ f(𝑥_0) + df \\\\\n",
    "      df = (1 + 4x)|𝑥_0 * \\delta \\\\\n",
    "      f(𝑥_0 + \\delta) = 21 + 13 \\delta $\n",
    "      b)  \n",
    "      $𝑓(𝑥)|𝑥_0 ≈ 21 + 13(x - 𝑥_0) = \\\\\n",
    "      = 21 + 13x - 39 = \\\\\n",
    "      = -18 + 13x$"
   ]
  },
  {
   "cell_type": "code",
   "execution_count": 19,
   "metadata": {},
   "outputs": [
    {
     "data": {
      "text/plain": [
       "[<matplotlib.lines.Line2D at 0x25972339280>]"
      ]
     },
     "execution_count": 19,
     "metadata": {},
     "output_type": "execute_result"
    },
    {
     "data": {
      "image/png": "[encoded data removed]",
      "text/plain": [
       "<Figure size 432x288 with 1 Axes>"
      ]
     },
     "metadata": {},
     "output_type": "display_data"
    }
   ],
   "source": [
    "import matplotlib.pyplot as plt\n",
    "import numpy as np\n",
    "plt.style.use('seaborn-whitegrid')\n",
    "x = np.linspace(-10, 10, 100)\n",
    "plt.plot(x, (x + 2*x**2))\n",
    "plt.plot(x, (-18 + 13*x))"
   ]
  },
  {
   "cell_type": "markdown",
   "metadata": {},
   "source": [
    "$3.$ Linearize the following function $𝑓(𝑥_1(𝒑), 𝑥_2(𝒑))$\n",
    "for small changes in parameters 𝒑, i.e., $𝒑_0 + \\delta$, \n",
    "using the Jacobian: $𝑓(𝑥_1(𝒑), 𝑥_2(𝒑)) = x_1^2(𝒑) + x_2^5(𝒑)\n",
    "$  \n",
    "with parameter vector defined as:  \n",
    "$𝒑 = [p_1, p_2]^T\n",
    "$\n",
    "and with parameters of $𝑓(𝑥_1, 𝑥_2)$ defined as:\n",
    "$x_1(𝒑) = p_1, x_2(𝒑) = p_1^2 + p_2^2\n",
    "$  \n",
    "SOLUTION:  \n",
    "$𝑓(x(𝒑_0 + \\delta)) ≈ 𝑓(x(𝒑_0) + \\nabla𝑓^T|𝒑_0 * J * \\delta \\\\\n",
    "\\nabla𝑓^T|𝒑_0 = [2x_1(𝒑),5x_2^4(𝒑)]|𝒑_0 = [2p_1, 5(p_1^2 + p_2^2)^4]$\n",
    "$$J=\\begin{bmatrix}\n",
    "1 & 0 \\\\\n",
    "2p_1 & 2p_2\n",
    "\\end{bmatrix}$$"
   ]
  },
  {
   "cell_type": "markdown",
   "metadata": {},
   "source": [
    "$4.$ Assume a vector $x \\in \\R^d$ and a symmetric positive \n",
    "definite matrix $A \\in \\R^{dxd}$.  \n",
    "Take the function f(**x**) = $x^TAx*3$\n",
    "and compute its gradient: $\\nabla f(x) = \\frac{\\partial f}{\\partial x} = 3(A + A^T)x = 6Ax\n",
    "$"
   ]
  }
 ],
 "metadata": {
  "interpreter": {
   "hash": "50fff74db5efa089f0cf074252ae1d0598cf466eb2ddcbc87b731bd367568352"
  },
  "kernelspec": {
   "display_name": "Python 3.8.12 64-bit ('ids': conda)",
   "language": "python",
   "name": "python3"
  },
  "language_info": {
   "codemirror_mode": {
    "name": "ipython",
    "version": 3
   },
   "file_extension": ".py",
   "mimetype": "text/x-python",
   "name": "python",
   "nbconvert_exporter": "python",
   "pygments_lexer": "ipython3",
   "version": "3.8.12"
  },
  "orig_nbformat": 4
 },
 "nbformat": 4,
 "nbformat_minor": 2
}
